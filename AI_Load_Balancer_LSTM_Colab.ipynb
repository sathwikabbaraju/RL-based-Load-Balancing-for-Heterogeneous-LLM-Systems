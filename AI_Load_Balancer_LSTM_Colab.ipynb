{
 "cells": [
  {
   "cell_type": "markdown",
   "metadata": {},
   "source": [
    "# AI-Driven Load Balancing using LSTM on Azure LLM Inference Dataset\n",
    "This notebook demonstrates a time-series forecasting approach using LSTM to simulate intelligent load balancing across servers based on Azure's LLM Inference trace dataset."
   ]
  },
  {
   "cell_type": "code",
   "execution_count": null,
   "metadata": {},
   "outputs": [],
   "source": [
    "# Step 1: Install required packages\n",
    "!pip install -q pandas numpy scikit-learn tensorflow matplotlib"
   ]
  },
  {
   "cell_type": "code",
   "execution_count": 1,
   "metadata": {},
   "outputs": [],
   "source": [
    "# Step 2: Import libraries\n",
    "import pandas as pd\n",
    "import numpy as np\n",
    "from sklearn.preprocessing import MinMaxScaler\n",
    "from sklearn.model_selection import train_test_split\n",
    "from tensorflow.keras.models import Sequential\n",
    "from tensorflow.keras.layers import LSTM, Dense\n",
    "import matplotlib.pyplot as plt"
   ]
  },
  {
   "cell_type": "code",
   "execution_count": 2,
   "metadata": {},
   "outputs": [
    {
     "name": "stderr",
     "output_type": "stream",
     "text": [
      "/var/folders/6q/bl89jndd471gbzxhn9qyy6ph0000gn/T/ipykernel_70874/72450078.py:13: FutureWarning: 'T' is deprecated and will be removed in a future version, please use 'min' instead.\n",
      "  time_index = pd.date_range(start='2024-05-10', periods=1000, freq='T')\n"
     ]
    }
   ],
   "source": [
    "# Step 3: Load data (Replace this path with your dataset URL or file path)\n",
    "import pandas as pd\n",
    "from datetime import datetime\n",
    "\n",
    "# Load one of the datasets (you can repeat for both)\n",
    "df_code = pd.read_csv(\"/Users/sathwik/VISUAL STUDIO CODE/Cloud:Fog/Azure LLM Inference Dataset/data2024/AzureLLMInferenceTrace_code_1week.csv\", parse_dates=[\"TIMESTAMP\"])\n",
    "df_code[\"TotalTokens\"] = df_code[\"ContextTokens\"] + df_code[\"GeneratedTokens\"]\n",
    "\n",
    "# Optional: Resample to minute-wise or second-wise request load\n",
    "df_code.set_index(\"TIMESTAMP\", inplace=True)\n",
    "token_load = df_code[\"TotalTokens\"].resample(\"1min\").sum().reset_index()\n",
    "token_load.columns = [\"Timestamp\", \"TotalTokens\"]\n",
    "time_index = pd.date_range(start='2024-05-10', periods=1000, freq='T')\n",
    "total_tokens = np.sin(np.linspace(0, 50, 1000)) * 1000 + 5000 + np.random.normal(0, 100, 1000)\n",
    "token_load = pd.DataFrame({'Timestamp': time_index, 'TotalTokens': total_tokens})\n",
    "token_load.set_index('Timestamp', inplace=True)"
   ]
  },
  {
   "cell_type": "code",
   "execution_count": 3,
   "metadata": {},
   "outputs": [],
   "source": [
    "# Step 4: Prepare data for LSTM\n",
    "look_back = 10\n",
    "values = token_load['TotalTokens'].values.reshape(-1, 1)\n",
    "scaler = MinMaxScaler()\n",
    "scaled_values = scaler.fit_transform(values)\n",
    "X, y = [], []\n",
    "for i in range(len(scaled_values) - look_back):\n",
    "    X.append(scaled_values[i:i+look_back])\n",
    "    y.append(scaled_values[i+look_back])\n",
    "X, y = np.array(X), np.array(y)\n",
    "X_train, X_test, y_train, y_test = train_test_split(X, y, test_size=0.2, shuffle=False)"
   ]
  },
  {
   "cell_type": "code",
   "execution_count": 4,
   "metadata": {},
   "outputs": [
    {
     "name": "stdout",
     "output_type": "stream",
     "text": [
      "Epoch 1/5\n"
     ]
    },
    {
     "name": "stderr",
     "output_type": "stream",
     "text": [
      "/Users/sathwik/.conda/envs/pythonProject/lib/python3.10/site-packages/keras/src/layers/rnn/rnn.py:199: UserWarning: Do not pass an `input_shape`/`input_dim` argument to a layer. When using Sequential models, prefer using an `Input(shape)` object as the first layer in the model instead.\n",
      "  super().__init__(**kwargs)\n"
     ]
    },
    {
     "name": "stdout",
     "output_type": "stream",
     "text": [
      "\u001b[1m13/13\u001b[0m \u001b[32m━━━━━━━━━━━━━━━━━━━━\u001b[0m\u001b[37m\u001b[0m \u001b[1m1s\u001b[0m 14ms/step - loss: 0.3095 - val_loss: 0.0184\n",
      "Epoch 2/5\n",
      "\u001b[1m13/13\u001b[0m \u001b[32m━━━━━━━━━━━━━━━━━━━━\u001b[0m\u001b[37m\u001b[0m \u001b[1m0s\u001b[0m 6ms/step - loss: 0.0200 - val_loss: 0.0196\n",
      "Epoch 3/5\n",
      "\u001b[1m13/13\u001b[0m \u001b[32m━━━━━━━━━━━━━━━━━━━━\u001b[0m\u001b[37m\u001b[0m \u001b[1m0s\u001b[0m 6ms/step - loss: 0.0132 - val_loss: 0.0108\n",
      "Epoch 4/5\n",
      "\u001b[1m13/13\u001b[0m \u001b[32m━━━━━━━━━━━━━━━━━━━━\u001b[0m\u001b[37m\u001b[0m \u001b[1m0s\u001b[0m 6ms/step - loss: 0.0116 - val_loss: 0.0113\n",
      "Epoch 5/5\n",
      "\u001b[1m13/13\u001b[0m \u001b[32m━━━━━━━━━━━━━━━━━━━━\u001b[0m\u001b[37m\u001b[0m \u001b[1m0s\u001b[0m 6ms/step - loss: 0.0093 - val_loss: 0.0083\n"
     ]
    },
    {
     "data": {
      "text/plain": [
       "<keras.src.callbacks.history.History at 0x1563be500>"
      ]
     },
     "execution_count": 4,
     "metadata": {},
     "output_type": "execute_result"
    }
   ],
   "source": [
    "# Step 5: Train LSTM\n",
    "model = Sequential([\n",
    "    LSTM(64, input_shape=(look_back, 1)),\n",
    "    Dense(1)\n",
    "])\n",
    "model.compile(optimizer='adam', loss='mse')\n",
    "model.fit(X_train, y_train, epochs=5, batch_size=64, validation_data=(X_test, y_test))"
   ]
  },
  {
   "cell_type": "code",
   "execution_count": 5,
   "metadata": {},
   "outputs": [
    {
     "name": "stdout",
     "output_type": "stream",
     "text": [
      "\u001b[1m7/7\u001b[0m \u001b[32m━━━━━━━━━━━━━━━━━━━━\u001b[0m\u001b[37m\u001b[0m \u001b[1m0s\u001b[0m 11ms/step\n",
      "Server 0 Total Load: 322403.00\n",
      "Server 1 Total Load: 322252.75\n",
      "Server 2 Total Load: 322550.56\n"
     ]
    }
   ],
   "source": [
    "# Step 6: Predict and simulate load balancing\n",
    "y_pred_scaled = model.predict(X_test)\n",
    "y_pred = scaler.inverse_transform(y_pred_scaled)\n",
    "server_loads = [0, 0, 0]\n",
    "for load in y_pred.flatten():\n",
    "    idx = server_loads.index(min(server_loads))\n",
    "    server_loads[idx] += load\n",
    "for i, load in enumerate(server_loads):\n",
    "    print(f'Server {i} Total Load: {load:.2f}')"
   ]
  },
  {
   "cell_type": "code",
   "execution_count": null,
   "metadata": {},
   "outputs": [],
   "source": []
  }
 ],
 "metadata": {
  "kernelspec": {
   "display_name": "pythonProject",
   "language": "python",
   "name": "python3"
  },
  "language_info": {
   "codemirror_mode": {
    "name": "ipython",
    "version": 3
   },
   "file_extension": ".py",
   "mimetype": "text/x-python",
   "name": "python",
   "nbconvert_exporter": "python",
   "pygments_lexer": "ipython3",
   "version": "3.10.5"
  }
 },
 "nbformat": 4,
 "nbformat_minor": 2
}
